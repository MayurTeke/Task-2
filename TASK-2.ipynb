{
 "cells": [
  {
   "cell_type": "markdown",
   "id": "84e752bd",
   "metadata": {},
   "source": [
    "# TASK-2:\n",
    "Develop the ML model(s) to predict the credit risk(low or high) for a given applicant."
   ]
  },
  {
   "cell_type": "markdown",
   "id": "1f2bd3d4",
   "metadata": {},
   "source": [
    "# Read data"
   ]
  },
  {
   "cell_type": "code",
   "execution_count": 1,
   "id": "0a4cddb5",
   "metadata": {},
   "outputs": [],
   "source": [
    "from warnings import filterwarnings\n",
    "filterwarnings(\"ignore\")\n",
    "import pandas as mt\n",
    "A = mt.read_csv(\"C:/Users/SHREE/OneDrive/Desktop/Data/loan.csv\")"
   ]
  },
  {
   "cell_type": "markdown",
   "id": "dc98d896",
   "metadata": {},
   "source": [
    "# Preview"
   ]
  },
  {
   "cell_type": "code",
   "execution_count": 2,
   "id": "ebed3129",
   "metadata": {},
   "outputs": [
    {
     "data": {
      "text/html": [
       "<div>\n",
       "<style scoped>\n",
       "    .dataframe tbody tr th:only-of-type {\n",
       "        vertical-align: middle;\n",
       "    }\n",
       "\n",
       "    .dataframe tbody tr th {\n",
       "        vertical-align: top;\n",
       "    }\n",
       "\n",
       "    .dataframe thead th {\n",
       "        text-align: right;\n",
       "    }\n",
       "</style>\n",
       "<table border=\"1\" class=\"dataframe\">\n",
       "  <thead>\n",
       "    <tr style=\"text-align: right;\">\n",
       "      <th></th>\n",
       "      <th>loan_application_id</th>\n",
       "      <th>applicant_id</th>\n",
       "      <th>Months_loan_taken_for</th>\n",
       "      <th>Purpose</th>\n",
       "      <th>Principal_loan_amount</th>\n",
       "      <th>EMI_rate_in_percentage_of_disposable_income</th>\n",
       "      <th>Property</th>\n",
       "      <th>Has_coapplicant</th>\n",
       "      <th>Has_guarantor</th>\n",
       "      <th>Other_EMI_plans</th>\n",
       "      <th>Number_of_existing_loans_at_this_bank</th>\n",
       "      <th>Loan_history</th>\n",
       "      <th>high_risk_applicant</th>\n",
       "    </tr>\n",
       "  </thead>\n",
       "  <tbody>\n",
       "    <tr>\n",
       "      <th>0</th>\n",
       "      <td>d68d975e-edad-11ea-8761-1d6f9c1ff461</td>\n",
       "      <td>1469590</td>\n",
       "      <td>6</td>\n",
       "      <td>electronic equipment</td>\n",
       "      <td>1169000</td>\n",
       "      <td>4</td>\n",
       "      <td>real estate</td>\n",
       "      <td>0</td>\n",
       "      <td>0</td>\n",
       "      <td>NaN</td>\n",
       "      <td>2</td>\n",
       "      <td>critical/pending loans at other banks</td>\n",
       "      <td>0</td>\n",
       "    </tr>\n",
       "    <tr>\n",
       "      <th>1</th>\n",
       "      <td>d68d989e-edad-11ea-b1d5-2bcf65006448</td>\n",
       "      <td>1203873</td>\n",
       "      <td>48</td>\n",
       "      <td>electronic equipment</td>\n",
       "      <td>5951000</td>\n",
       "      <td>2</td>\n",
       "      <td>real estate</td>\n",
       "      <td>0</td>\n",
       "      <td>0</td>\n",
       "      <td>NaN</td>\n",
       "      <td>1</td>\n",
       "      <td>existing loans paid back duly till now</td>\n",
       "      <td>1</td>\n",
       "    </tr>\n",
       "    <tr>\n",
       "      <th>2</th>\n",
       "      <td>d68d995c-edad-11ea-814a-1b6716782575</td>\n",
       "      <td>1432761</td>\n",
       "      <td>12</td>\n",
       "      <td>education</td>\n",
       "      <td>2096000</td>\n",
       "      <td>2</td>\n",
       "      <td>real estate</td>\n",
       "      <td>0</td>\n",
       "      <td>0</td>\n",
       "      <td>NaN</td>\n",
       "      <td>1</td>\n",
       "      <td>critical/pending loans at other banks</td>\n",
       "      <td>0</td>\n",
       "    </tr>\n",
       "    <tr>\n",
       "      <th>3</th>\n",
       "      <td>d68d99fc-edad-11ea-8841-17e8848060ae</td>\n",
       "      <td>1207582</td>\n",
       "      <td>42</td>\n",
       "      <td>FF&amp;E</td>\n",
       "      <td>7882000</td>\n",
       "      <td>2</td>\n",
       "      <td>building society savings agreement/life insurance</td>\n",
       "      <td>0</td>\n",
       "      <td>1</td>\n",
       "      <td>NaN</td>\n",
       "      <td>1</td>\n",
       "      <td>existing loans paid back duly till now</td>\n",
       "      <td>0</td>\n",
       "    </tr>\n",
       "    <tr>\n",
       "      <th>4</th>\n",
       "      <td>d68d9a92-edad-11ea-9f3d-1f8682db006a</td>\n",
       "      <td>1674436</td>\n",
       "      <td>24</td>\n",
       "      <td>new vehicle</td>\n",
       "      <td>4870000</td>\n",
       "      <td>3</td>\n",
       "      <td>NaN</td>\n",
       "      <td>0</td>\n",
       "      <td>0</td>\n",
       "      <td>NaN</td>\n",
       "      <td>2</td>\n",
       "      <td>delay in paying off loans in the past</td>\n",
       "      <td>1</td>\n",
       "    </tr>\n",
       "  </tbody>\n",
       "</table>\n",
       "</div>"
      ],
      "text/plain": [
       "                    loan_application_id  applicant_id  Months_loan_taken_for  \\\n",
       "0  d68d975e-edad-11ea-8761-1d6f9c1ff461       1469590                      6   \n",
       "1  d68d989e-edad-11ea-b1d5-2bcf65006448       1203873                     48   \n",
       "2  d68d995c-edad-11ea-814a-1b6716782575       1432761                     12   \n",
       "3  d68d99fc-edad-11ea-8841-17e8848060ae       1207582                     42   \n",
       "4  d68d9a92-edad-11ea-9f3d-1f8682db006a       1674436                     24   \n",
       "\n",
       "                Purpose  Principal_loan_amount  \\\n",
       "0  electronic equipment                1169000   \n",
       "1  electronic equipment                5951000   \n",
       "2             education                2096000   \n",
       "3                  FF&E                7882000   \n",
       "4           new vehicle                4870000   \n",
       "\n",
       "   EMI_rate_in_percentage_of_disposable_income  \\\n",
       "0                                            4   \n",
       "1                                            2   \n",
       "2                                            2   \n",
       "3                                            2   \n",
       "4                                            3   \n",
       "\n",
       "                                            Property  Has_coapplicant  \\\n",
       "0                                        real estate                0   \n",
       "1                                        real estate                0   \n",
       "2                                        real estate                0   \n",
       "3  building society savings agreement/life insurance                0   \n",
       "4                                                NaN                0   \n",
       "\n",
       "   Has_guarantor Other_EMI_plans  Number_of_existing_loans_at_this_bank  \\\n",
       "0              0             NaN                                      2   \n",
       "1              0             NaN                                      1   \n",
       "2              0             NaN                                      1   \n",
       "3              1             NaN                                      1   \n",
       "4              0             NaN                                      2   \n",
       "\n",
       "                             Loan_history  high_risk_applicant  \n",
       "0   critical/pending loans at other banks                    0  \n",
       "1  existing loans paid back duly till now                    1  \n",
       "2   critical/pending loans at other banks                    0  \n",
       "3  existing loans paid back duly till now                    0  \n",
       "4   delay in paying off loans in the past                    1  "
      ]
     },
     "execution_count": 2,
     "metadata": {},
     "output_type": "execute_result"
    }
   ],
   "source": [
    "A.head()"
   ]
  },
  {
   "cell_type": "markdown",
   "id": "d3823dfa",
   "metadata": {},
   "source": [
    "# Drop unwanted columes"
   ]
  },
  {
   "cell_type": "code",
   "execution_count": 3,
   "id": "78141649",
   "metadata": {},
   "outputs": [],
   "source": [
    "A = A.drop(labels=[\"loan_application_id\",\"applicant_id\"],axis=1)"
   ]
  },
  {
   "cell_type": "markdown",
   "id": "5e982d4c",
   "metadata": {},
   "source": [
    "# Missing data treatment"
   ]
  },
  {
   "cell_type": "code",
   "execution_count": 4,
   "id": "bd934525",
   "metadata": {},
   "outputs": [
    {
     "name": "stdout",
     "output_type": "stream",
     "text": [
      "<class 'pandas.core.frame.DataFrame'>\n",
      "RangeIndex: 1000 entries, 0 to 999\n",
      "Data columns (total 11 columns):\n",
      " #   Column                                       Non-Null Count  Dtype \n",
      "---  ------                                       --------------  ----- \n",
      " 0   Months_loan_taken_for                        1000 non-null   int64 \n",
      " 1   Purpose                                      988 non-null    object\n",
      " 2   Principal_loan_amount                        1000 non-null   int64 \n",
      " 3   EMI_rate_in_percentage_of_disposable_income  1000 non-null   int64 \n",
      " 4   Property                                     846 non-null    object\n",
      " 5   Has_coapplicant                              1000 non-null   int64 \n",
      " 6   Has_guarantor                                1000 non-null   int64 \n",
      " 7   Other_EMI_plans                              186 non-null    object\n",
      " 8   Number_of_existing_loans_at_this_bank        1000 non-null   int64 \n",
      " 9   Loan_history                                 1000 non-null   object\n",
      " 10  high_risk_applicant                          1000 non-null   int64 \n",
      "dtypes: int64(7), object(4)\n",
      "memory usage: 86.1+ KB\n"
     ]
    }
   ],
   "source": [
    "A.info()"
   ]
  },
  {
   "cell_type": "code",
   "execution_count": 5,
   "id": "f16ddfbb",
   "metadata": {},
   "outputs": [],
   "source": [
    "from important_tool import replacer\n",
    "replacer(A)"
   ]
  },
  {
   "cell_type": "markdown",
   "id": "92e4eb11",
   "metadata": {},
   "source": [
    "# Define X and Y"
   ]
  },
  {
   "cell_type": "code",
   "execution_count": 6,
   "id": "1a0581b4",
   "metadata": {},
   "outputs": [],
   "source": [
    "Y = A[[\"high_risk_applicant\"]]\n",
    "X = A.drop(labels=[\"high_risk_applicant\"],axis=1)"
   ]
  },
  {
   "cell_type": "markdown",
   "id": "1fb7b1a0",
   "metadata": {},
   "source": [
    "# Exploratory Data Analysis"
   ]
  },
  {
   "cell_type": "code",
   "execution_count": 7,
   "id": "6bf8154f",
   "metadata": {},
   "outputs": [
    {
     "data": {
      "text/html": [
       "<div>\n",
       "<style scoped>\n",
       "    .dataframe tbody tr th:only-of-type {\n",
       "        vertical-align: middle;\n",
       "    }\n",
       "\n",
       "    .dataframe tbody tr th {\n",
       "        vertical-align: top;\n",
       "    }\n",
       "\n",
       "    .dataframe thead th {\n",
       "        text-align: right;\n",
       "    }\n",
       "</style>\n",
       "<table border=\"1\" class=\"dataframe\">\n",
       "  <thead>\n",
       "    <tr style=\"text-align: right;\">\n",
       "      <th></th>\n",
       "      <th>Months_loan_taken_for</th>\n",
       "      <th>Principal_loan_amount</th>\n",
       "      <th>EMI_rate_in_percentage_of_disposable_income</th>\n",
       "      <th>Has_coapplicant</th>\n",
       "      <th>Has_guarantor</th>\n",
       "      <th>Number_of_existing_loans_at_this_bank</th>\n",
       "      <th>high_risk_applicant</th>\n",
       "    </tr>\n",
       "  </thead>\n",
       "  <tbody>\n",
       "    <tr>\n",
       "      <th>Months_loan_taken_for</th>\n",
       "      <td>1.000000</td>\n",
       "      <td>0.624984</td>\n",
       "      <td>0.074749</td>\n",
       "      <td>0.029698</td>\n",
       "      <td>-0.039594</td>\n",
       "      <td>-0.011284</td>\n",
       "      <td>0.214927</td>\n",
       "    </tr>\n",
       "    <tr>\n",
       "      <th>Principal_loan_amount</th>\n",
       "      <td>0.624984</td>\n",
       "      <td>1.000000</td>\n",
       "      <td>-0.271316</td>\n",
       "      <td>0.079076</td>\n",
       "      <td>-0.065237</td>\n",
       "      <td>0.020795</td>\n",
       "      <td>0.154739</td>\n",
       "    </tr>\n",
       "    <tr>\n",
       "      <th>EMI_rate_in_percentage_of_disposable_income</th>\n",
       "      <td>0.074749</td>\n",
       "      <td>-0.271316</td>\n",
       "      <td>1.000000</td>\n",
       "      <td>-0.013048</td>\n",
       "      <td>-0.006429</td>\n",
       "      <td>0.021669</td>\n",
       "      <td>0.072404</td>\n",
       "    </tr>\n",
       "    <tr>\n",
       "      <th>Has_coapplicant</th>\n",
       "      <td>0.029698</td>\n",
       "      <td>0.079076</td>\n",
       "      <td>-0.013048</td>\n",
       "      <td>1.000000</td>\n",
       "      <td>-0.048426</td>\n",
       "      <td>-0.006001</td>\n",
       "      <td>0.062728</td>\n",
       "    </tr>\n",
       "    <tr>\n",
       "      <th>Has_guarantor</th>\n",
       "      <td>-0.039594</td>\n",
       "      <td>-0.065237</td>\n",
       "      <td>-0.006429</td>\n",
       "      <td>-0.048426</td>\n",
       "      <td>1.000000</td>\n",
       "      <td>-0.024682</td>\n",
       "      <td>-0.055039</td>\n",
       "    </tr>\n",
       "    <tr>\n",
       "      <th>Number_of_existing_loans_at_this_bank</th>\n",
       "      <td>-0.011284</td>\n",
       "      <td>0.020795</td>\n",
       "      <td>0.021669</td>\n",
       "      <td>-0.006001</td>\n",
       "      <td>-0.024682</td>\n",
       "      <td>1.000000</td>\n",
       "      <td>-0.045732</td>\n",
       "    </tr>\n",
       "    <tr>\n",
       "      <th>high_risk_applicant</th>\n",
       "      <td>0.214927</td>\n",
       "      <td>0.154739</td>\n",
       "      <td>0.072404</td>\n",
       "      <td>0.062728</td>\n",
       "      <td>-0.055039</td>\n",
       "      <td>-0.045732</td>\n",
       "      <td>1.000000</td>\n",
       "    </tr>\n",
       "  </tbody>\n",
       "</table>\n",
       "</div>"
      ],
      "text/plain": [
       "                                             Months_loan_taken_for  \\\n",
       "Months_loan_taken_for                                     1.000000   \n",
       "Principal_loan_amount                                     0.624984   \n",
       "EMI_rate_in_percentage_of_disposable_income               0.074749   \n",
       "Has_coapplicant                                           0.029698   \n",
       "Has_guarantor                                            -0.039594   \n",
       "Number_of_existing_loans_at_this_bank                    -0.011284   \n",
       "high_risk_applicant                                       0.214927   \n",
       "\n",
       "                                             Principal_loan_amount  \\\n",
       "Months_loan_taken_for                                     0.624984   \n",
       "Principal_loan_amount                                     1.000000   \n",
       "EMI_rate_in_percentage_of_disposable_income              -0.271316   \n",
       "Has_coapplicant                                           0.079076   \n",
       "Has_guarantor                                            -0.065237   \n",
       "Number_of_existing_loans_at_this_bank                     0.020795   \n",
       "high_risk_applicant                                       0.154739   \n",
       "\n",
       "                                             EMI_rate_in_percentage_of_disposable_income  \\\n",
       "Months_loan_taken_for                                                           0.074749   \n",
       "Principal_loan_amount                                                          -0.271316   \n",
       "EMI_rate_in_percentage_of_disposable_income                                     1.000000   \n",
       "Has_coapplicant                                                                -0.013048   \n",
       "Has_guarantor                                                                  -0.006429   \n",
       "Number_of_existing_loans_at_this_bank                                           0.021669   \n",
       "high_risk_applicant                                                             0.072404   \n",
       "\n",
       "                                             Has_coapplicant  Has_guarantor  \\\n",
       "Months_loan_taken_for                               0.029698      -0.039594   \n",
       "Principal_loan_amount                               0.079076      -0.065237   \n",
       "EMI_rate_in_percentage_of_disposable_income        -0.013048      -0.006429   \n",
       "Has_coapplicant                                     1.000000      -0.048426   \n",
       "Has_guarantor                                      -0.048426       1.000000   \n",
       "Number_of_existing_loans_at_this_bank              -0.006001      -0.024682   \n",
       "high_risk_applicant                                 0.062728      -0.055039   \n",
       "\n",
       "                                             Number_of_existing_loans_at_this_bank  \\\n",
       "Months_loan_taken_for                                                    -0.011284   \n",
       "Principal_loan_amount                                                     0.020795   \n",
       "EMI_rate_in_percentage_of_disposable_income                               0.021669   \n",
       "Has_coapplicant                                                          -0.006001   \n",
       "Has_guarantor                                                            -0.024682   \n",
       "Number_of_existing_loans_at_this_bank                                     1.000000   \n",
       "high_risk_applicant                                                      -0.045732   \n",
       "\n",
       "                                             high_risk_applicant  \n",
       "Months_loan_taken_for                                   0.214927  \n",
       "Principal_loan_amount                                   0.154739  \n",
       "EMI_rate_in_percentage_of_disposable_income             0.072404  \n",
       "Has_coapplicant                                         0.062728  \n",
       "Has_guarantor                                          -0.055039  \n",
       "Number_of_existing_loans_at_this_bank                  -0.045732  \n",
       "high_risk_applicant                                     1.000000  "
      ]
     },
     "execution_count": 7,
     "metadata": {},
     "output_type": "execute_result"
    }
   ],
   "source": [
    "A.corr()"
   ]
  },
  {
   "cell_type": "code",
   "execution_count": 8,
   "id": "38c283a1",
   "metadata": {},
   "outputs": [
    {
     "data": {
      "text/html": [
       "<div>\n",
       "<style scoped>\n",
       "    .dataframe tbody tr th:only-of-type {\n",
       "        vertical-align: middle;\n",
       "    }\n",
       "\n",
       "    .dataframe tbody tr th {\n",
       "        vertical-align: top;\n",
       "    }\n",
       "\n",
       "    .dataframe thead th {\n",
       "        text-align: right;\n",
       "    }\n",
       "</style>\n",
       "<table border=\"1\" class=\"dataframe\">\n",
       "  <thead>\n",
       "    <tr style=\"text-align: right;\">\n",
       "      <th></th>\n",
       "      <th>Months_loan_taken_for</th>\n",
       "      <th>Principal_loan_amount</th>\n",
       "      <th>EMI_rate_in_percentage_of_disposable_income</th>\n",
       "      <th>Has_coapplicant</th>\n",
       "      <th>Has_guarantor</th>\n",
       "      <th>Number_of_existing_loans_at_this_bank</th>\n",
       "      <th>high_risk_applicant</th>\n",
       "    </tr>\n",
       "  </thead>\n",
       "  <tbody>\n",
       "    <tr>\n",
       "      <th>count</th>\n",
       "      <td>1000.000000</td>\n",
       "      <td>1.000000e+03</td>\n",
       "      <td>1000.000000</td>\n",
       "      <td>1000.000000</td>\n",
       "      <td>1000.000000</td>\n",
       "      <td>1000.000000</td>\n",
       "      <td>1000.000000</td>\n",
       "    </tr>\n",
       "    <tr>\n",
       "      <th>mean</th>\n",
       "      <td>20.903000</td>\n",
       "      <td>3.271258e+06</td>\n",
       "      <td>2.973000</td>\n",
       "      <td>0.041000</td>\n",
       "      <td>0.052000</td>\n",
       "      <td>1.407000</td>\n",
       "      <td>0.300000</td>\n",
       "    </tr>\n",
       "    <tr>\n",
       "      <th>std</th>\n",
       "      <td>12.058814</td>\n",
       "      <td>2.822737e+06</td>\n",
       "      <td>1.118715</td>\n",
       "      <td>0.198389</td>\n",
       "      <td>0.222138</td>\n",
       "      <td>0.577654</td>\n",
       "      <td>0.458487</td>\n",
       "    </tr>\n",
       "    <tr>\n",
       "      <th>min</th>\n",
       "      <td>4.000000</td>\n",
       "      <td>2.500000e+05</td>\n",
       "      <td>1.000000</td>\n",
       "      <td>0.000000</td>\n",
       "      <td>0.000000</td>\n",
       "      <td>1.000000</td>\n",
       "      <td>0.000000</td>\n",
       "    </tr>\n",
       "    <tr>\n",
       "      <th>25%</th>\n",
       "      <td>12.000000</td>\n",
       "      <td>1.365500e+06</td>\n",
       "      <td>2.000000</td>\n",
       "      <td>0.000000</td>\n",
       "      <td>0.000000</td>\n",
       "      <td>1.000000</td>\n",
       "      <td>0.000000</td>\n",
       "    </tr>\n",
       "    <tr>\n",
       "      <th>50%</th>\n",
       "      <td>18.000000</td>\n",
       "      <td>2.319500e+06</td>\n",
       "      <td>3.000000</td>\n",
       "      <td>0.000000</td>\n",
       "      <td>0.000000</td>\n",
       "      <td>1.000000</td>\n",
       "      <td>0.000000</td>\n",
       "    </tr>\n",
       "    <tr>\n",
       "      <th>75%</th>\n",
       "      <td>24.000000</td>\n",
       "      <td>3.972250e+06</td>\n",
       "      <td>4.000000</td>\n",
       "      <td>0.000000</td>\n",
       "      <td>0.000000</td>\n",
       "      <td>2.000000</td>\n",
       "      <td>1.000000</td>\n",
       "    </tr>\n",
       "    <tr>\n",
       "      <th>max</th>\n",
       "      <td>72.000000</td>\n",
       "      <td>1.842400e+07</td>\n",
       "      <td>4.000000</td>\n",
       "      <td>1.000000</td>\n",
       "      <td>1.000000</td>\n",
       "      <td>4.000000</td>\n",
       "      <td>1.000000</td>\n",
       "    </tr>\n",
       "  </tbody>\n",
       "</table>\n",
       "</div>"
      ],
      "text/plain": [
       "       Months_loan_taken_for  Principal_loan_amount  \\\n",
       "count            1000.000000           1.000000e+03   \n",
       "mean               20.903000           3.271258e+06   \n",
       "std                12.058814           2.822737e+06   \n",
       "min                 4.000000           2.500000e+05   \n",
       "25%                12.000000           1.365500e+06   \n",
       "50%                18.000000           2.319500e+06   \n",
       "75%                24.000000           3.972250e+06   \n",
       "max                72.000000           1.842400e+07   \n",
       "\n",
       "       EMI_rate_in_percentage_of_disposable_income  Has_coapplicant  \\\n",
       "count                                  1000.000000      1000.000000   \n",
       "mean                                      2.973000         0.041000   \n",
       "std                                       1.118715         0.198389   \n",
       "min                                       1.000000         0.000000   \n",
       "25%                                       2.000000         0.000000   \n",
       "50%                                       3.000000         0.000000   \n",
       "75%                                       4.000000         0.000000   \n",
       "max                                       4.000000         1.000000   \n",
       "\n",
       "       Has_guarantor  Number_of_existing_loans_at_this_bank  \\\n",
       "count    1000.000000                            1000.000000   \n",
       "mean        0.052000                               1.407000   \n",
       "std         0.222138                               0.577654   \n",
       "min         0.000000                               1.000000   \n",
       "25%         0.000000                               1.000000   \n",
       "50%         0.000000                               1.000000   \n",
       "75%         0.000000                               2.000000   \n",
       "max         1.000000                               4.000000   \n",
       "\n",
       "       high_risk_applicant  \n",
       "count          1000.000000  \n",
       "mean              0.300000  \n",
       "std               0.458487  \n",
       "min               0.000000  \n",
       "25%               0.000000  \n",
       "50%               0.000000  \n",
       "75%               1.000000  \n",
       "max               1.000000  "
      ]
     },
     "execution_count": 8,
     "metadata": {},
     "output_type": "execute_result"
    }
   ],
   "source": [
    "A.describe()"
   ]
  },
  {
   "cell_type": "code",
   "execution_count": 9,
   "id": "3e085a18",
   "metadata": {},
   "outputs": [
    {
     "data": {
      "text/plain": [
       "<AxesSubplot:>"
      ]
     },
     "execution_count": 9,
     "metadata": {},
     "output_type": "execute_result"
    },
    {
     "data": {
      "image/png": "[encoded data removed]",
      "text/plain": [
       "<Figure size 432x288 with 1 Axes>"
      ]
     },
     "metadata": {
      "needs_background": "light"
     },
     "output_type": "display_data"
    }
   ],
   "source": [
    "A.plot()"
   ]
  },
  {
   "cell_type": "code",
   "execution_count": 10,
   "id": "4367f287",
   "metadata": {},
   "outputs": [],
   "source": [
    "from important_tool import preprocessing\n",
    "Xnew = preprocessing(X)"
   ]
  },
  {
   "cell_type": "markdown",
   "id": "3bddf6a5",
   "metadata": {},
   "source": [
    "# Divide data in training and testing"
   ]
  },
  {
   "cell_type": "code",
   "execution_count": 11,
   "id": "83b138ab",
   "metadata": {},
   "outputs": [],
   "source": [
    "from sklearn.model_selection import train_test_split\n",
    "xtrain,xtest,ytrain,ytest=train_test_split(Xnew,Y,test_size=0.2,random_state=25)"
   ]
  },
  {
   "cell_type": "markdown",
   "id": "8fe3497c",
   "metadata": {},
   "source": [
    "# Create a Multiple Linear Regression"
   ]
  },
  {
   "cell_type": "code",
   "execution_count": 12,
   "id": "9963f4fb",
   "metadata": {},
   "outputs": [],
   "source": [
    "from sklearn.linear_model import LinearRegression\n",
    "lm = LinearRegression()\n",
    "model = lm.fit(xtrain,ytrain)\n",
    "pred_tr = model.predict(xtrain)\n",
    "pred_ts = model.predict(xtest)\n",
    "from sklearn.metrics import mean_absolute_error\n",
    "testing_error = mean_absolute_error(ytest,pred_ts)\n",
    "training_error = mean_absolute_error(ytrain,pred_tr)\n",
    "Difference = training_error-testing_error"
   ]
  },
  {
   "cell_type": "code",
   "execution_count": 13,
   "id": "60719735",
   "metadata": {},
   "outputs": [
    {
     "data": {
      "text/plain": [
       "0.36873185686776944"
      ]
     },
     "execution_count": 13,
     "metadata": {},
     "output_type": "execute_result"
    }
   ],
   "source": [
    "testing_error"
   ]
  },
  {
   "cell_type": "code",
   "execution_count": 14,
   "id": "f8fbecc4",
   "metadata": {},
   "outputs": [
    {
     "data": {
      "text/plain": [
       "0.3544923714544058"
      ]
     },
     "execution_count": 14,
     "metadata": {},
     "output_type": "execute_result"
    }
   ],
   "source": [
    "training_error"
   ]
  },
  {
   "cell_type": "code",
   "execution_count": 15,
   "id": "2f7aa301",
   "metadata": {},
   "outputs": [
    {
     "data": {
      "text/plain": [
       "-0.014239485413363617"
      ]
     },
     "execution_count": 15,
     "metadata": {},
     "output_type": "execute_result"
    }
   ],
   "source": [
    "Difference"
   ]
  },
  {
   "cell_type": "markdown",
   "id": "d227c684",
   "metadata": {},
   "source": [
    "# Cross validation"
   ]
  },
  {
   "cell_type": "code",
   "execution_count": 16,
   "id": "11034998",
   "metadata": {},
   "outputs": [],
   "source": [
    "Q = []\n",
    "x = 0.99\n",
    "for i in range(0,100,1):\n",
    "    x = x + 0.001\n",
    "    x = round(x,4)\n",
    "    Q.append(x)"
   ]
  },
  {
   "cell_type": "markdown",
   "id": "500cc253",
   "metadata": {},
   "source": [
    "# Ridge"
   ]
  },
  {
   "cell_type": "code",
   "execution_count": 17,
   "id": "40408b42",
   "metadata": {},
   "outputs": [
    {
     "data": {
      "text/plain": [
       "{'alpha': 0.991}"
      ]
     },
     "execution_count": 17,
     "metadata": {},
     "output_type": "execute_result"
    }
   ],
   "source": [
    "from sklearn.linear_model import Ridge\n",
    "from sklearn.model_selection import GridSearchCV\n",
    "rr = Ridge()\n",
    "tg ={\"alpha\":Q}\n",
    "cv = GridSearchCV(rr,tg,scoring=\"neg_mean_absolute_error\",cv=4)\n",
    "cvmodel = cv.fit(xtrain,ytrain)\n",
    "cvmodel.best_params_"
   ]
  },
  {
   "cell_type": "code",
   "execution_count": 18,
   "id": "8646cc9d",
   "metadata": {},
   "outputs": [],
   "source": [
    "rr = Ridge(alpha=0.991)\n",
    "model = rr.fit(xtrain,ytrain)\n",
    "pred_tr = model.predict(xtrain)\n",
    "pred_ts = model.predict(xtest)\n",
    "from sklearn.metrics import mean_absolute_error\n",
    "testing_error = mean_absolute_error(ytest,pred_ts)\n",
    "training_error = mean_absolute_error(ytrain,pred_tr)\n",
    "Difference = training_error-testing_error"
   ]
  },
  {
   "cell_type": "code",
   "execution_count": 19,
   "id": "5c356b34",
   "metadata": {},
   "outputs": [
    {
     "data": {
      "text/plain": [
       "0.3688944767876663"
      ]
     },
     "execution_count": 19,
     "metadata": {},
     "output_type": "execute_result"
    }
   ],
   "source": [
    "testing_error"
   ]
  },
  {
   "cell_type": "code",
   "execution_count": 20,
   "id": "8b76b37a",
   "metadata": {},
   "outputs": [
    {
     "data": {
      "text/plain": [
       "0.3549804595223614"
      ]
     },
     "execution_count": 20,
     "metadata": {},
     "output_type": "execute_result"
    }
   ],
   "source": [
    "training_error"
   ]
  },
  {
   "cell_type": "code",
   "execution_count": 21,
   "id": "c3627a27",
   "metadata": {},
   "outputs": [
    {
     "data": {
      "text/plain": [
       "-0.01391401726530489"
      ]
     },
     "execution_count": 21,
     "metadata": {},
     "output_type": "execute_result"
    }
   ],
   "source": [
    "Difference"
   ]
  },
  {
   "cell_type": "markdown",
   "id": "de0e157c",
   "metadata": {},
   "source": [
    "# Prediction"
   ]
  },
  {
   "cell_type": "code",
   "execution_count": 22,
   "id": "d305d81d",
   "metadata": {},
   "outputs": [],
   "source": [
    "Q = []\n",
    "for i in model.predict(xtest):\n",
    "    if(i[0] < 0.5):\n",
    "        Q.append(0)\n",
    "    else:\n",
    "        Q.append(1)"
   ]
  },
  {
   "cell_type": "code",
   "execution_count": 23,
   "id": "8c6d7153",
   "metadata": {},
   "outputs": [
    {
     "data": {
      "text/plain": [
       "[0,\n",
       " 0,\n",
       " 0,\n",
       " 0,\n",
       " 0,\n",
       " 0,\n",
       " 0,\n",
       " 0,\n",
       " 0,\n",
       " 0,\n",
       " 0,\n",
       " 0,\n",
       " 0,\n",
       " 0,\n",
       " 0,\n",
       " 0,\n",
       " 0,\n",
       " 0,\n",
       " 0,\n",
       " 0,\n",
       " 1,\n",
       " 0,\n",
       " 0,\n",
       " 0,\n",
       " 0,\n",
       " 0,\n",
       " 0,\n",
       " 0,\n",
       " 0,\n",
       " 0,\n",
       " 0,\n",
       " 0,\n",
       " 0,\n",
       " 0,\n",
       " 0,\n",
       " 0,\n",
       " 0,\n",
       " 0,\n",
       " 0,\n",
       " 0,\n",
       " 0,\n",
       " 0,\n",
       " 0,\n",
       " 0,\n",
       " 0,\n",
       " 0,\n",
       " 0,\n",
       " 0,\n",
       " 0,\n",
       " 0,\n",
       " 1,\n",
       " 0,\n",
       " 0,\n",
       " 0,\n",
       " 0,\n",
       " 0,\n",
       " 0,\n",
       " 0,\n",
       " 0,\n",
       " 0,\n",
       " 0,\n",
       " 0,\n",
       " 0,\n",
       " 0,\n",
       " 0,\n",
       " 0,\n",
       " 0,\n",
       " 0,\n",
       " 1,\n",
       " 0,\n",
       " 0,\n",
       " 0,\n",
       " 0,\n",
       " 0,\n",
       " 0,\n",
       " 0,\n",
       " 0,\n",
       " 0,\n",
       " 0,\n",
       " 0,\n",
       " 0,\n",
       " 1,\n",
       " 0,\n",
       " 0,\n",
       " 0,\n",
       " 1,\n",
       " 1,\n",
       " 0,\n",
       " 0,\n",
       " 0,\n",
       " 0,\n",
       " 0,\n",
       " 0,\n",
       " 0,\n",
       " 0,\n",
       " 0,\n",
       " 1,\n",
       " 0,\n",
       " 0,\n",
       " 0,\n",
       " 0,\n",
       " 0,\n",
       " 1,\n",
       " 0,\n",
       " 0,\n",
       " 0,\n",
       " 0,\n",
       " 1,\n",
       " 0,\n",
       " 0,\n",
       " 0,\n",
       " 0,\n",
       " 0,\n",
       " 0,\n",
       " 0,\n",
       " 0,\n",
       " 0,\n",
       " 0,\n",
       " 0,\n",
       " 0,\n",
       " 0,\n",
       " 1,\n",
       " 0,\n",
       " 0,\n",
       " 0,\n",
       " 0,\n",
       " 0,\n",
       " 0,\n",
       " 0,\n",
       " 1,\n",
       " 0,\n",
       " 1,\n",
       " 0,\n",
       " 0,\n",
       " 0,\n",
       " 1,\n",
       " 0,\n",
       " 1,\n",
       " 0,\n",
       " 0,\n",
       " 0,\n",
       " 0,\n",
       " 0,\n",
       " 1,\n",
       " 0,\n",
       " 0,\n",
       " 0,\n",
       " 0,\n",
       " 0,\n",
       " 0,\n",
       " 0,\n",
       " 0,\n",
       " 1,\n",
       " 0,\n",
       " 0,\n",
       " 0,\n",
       " 1,\n",
       " 0,\n",
       " 0,\n",
       " 0,\n",
       " 0,\n",
       " 0,\n",
       " 0,\n",
       " 0,\n",
       " 0,\n",
       " 0,\n",
       " 0,\n",
       " 0,\n",
       " 0,\n",
       " 1,\n",
       " 0,\n",
       " 0,\n",
       " 0,\n",
       " 0,\n",
       " 0,\n",
       " 0,\n",
       " 0,\n",
       " 0,\n",
       " 0,\n",
       " 0,\n",
       " 0,\n",
       " 0,\n",
       " 0,\n",
       " 0,\n",
       " 0,\n",
       " 0,\n",
       " 0,\n",
       " 0,\n",
       " 1,\n",
       " 0,\n",
       " 1,\n",
       " 0,\n",
       " 0,\n",
       " 0,\n",
       " 0,\n",
       " 0,\n",
       " 0,\n",
       " 0,\n",
       " 1,\n",
       " 0]"
      ]
     },
     "execution_count": 23,
     "metadata": {},
     "output_type": "execute_result"
    }
   ],
   "source": [
    "Q"
   ]
  },
  {
   "cell_type": "code",
   "execution_count": null,
   "id": "dc922558",
   "metadata": {},
   "outputs": [],
   "source": []
  }
 ],
 "metadata": {
  "kernelspec": {
   "display_name": "Python 3",
   "language": "python",
   "name": "python3"
  },
  "language_info": {
   "codemirror_mode": {
    "name": "ipython",
    "version": 3
   },
   "file_extension": ".py",
   "mimetype": "text/x-python",
   "name": "python",
   "nbconvert_exporter": "python",
   "pygments_lexer": "ipython3",
   "version": "3.8.8"
  }
 },
 "nbformat": 4,
 "nbformat_minor": 5
}
